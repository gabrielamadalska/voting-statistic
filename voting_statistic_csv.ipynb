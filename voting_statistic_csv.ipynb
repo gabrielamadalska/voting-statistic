{
  "nbformat": 4,
  "nbformat_minor": 0,
  "metadata": {
    "colab": {
      "name": "kandydaci_csv.ipynb",
      "provenance": [],
      "collapsed_sections": [],
      "authorship_tag": "ABX9TyNK+XrT38O20huYMR/H5kYl",
      "include_colab_link": true
    },
    "kernelspec": {
      "name": "python3",
      "display_name": "Python 3"
    },
    "language_info": {
      "name": "python"
    }
  },
  "cells": [
    {
      "cell_type": "markdown",
      "metadata": {
        "id": "view-in-github",
        "colab_type": "text"
      },
      "source": [
        "<a href=\"https://colab.research.google.com/github/gabrielamadalska/voting-statistic/blob/main/voting_statistic_csv.ipynb\" target=\"_parent\"><img src=\"https://colab.research.google.com/assets/colab-badge.svg\" alt=\"Open In Colab\"/></a>"
      ]
    },
    {
      "cell_type": "markdown",
      "metadata": {
        "id": "fMhIGoPe41FW"
      },
      "source": [
        "Importing libraries"
      ]
    },
    {
      "cell_type": "code",
      "metadata": {
        "id": "T7YqFiLdkJKd"
      },
      "source": [
        "import pandas as pd\n",
        "import matplotlib.pyplot as plt\n",
        "import numpy as np\n"
      ],
      "execution_count": null,
      "outputs": []
    },
    {
      "cell_type": "markdown",
      "metadata": {
        "id": "l3uO_uik5GsE"
      },
      "source": [
        "Reading and preparing data\n"
      ]
    },
    {
      "cell_type": "code",
      "metadata": {
        "id": "K6zPKiJfkOr8"
      },
      "source": [
        "data = pd.read_csv(\"kandydaci.csv\", delimiter=\";\")"
      ],
      "execution_count": null,
      "outputs": []
    },
    {
      "cell_type": "markdown",
      "metadata": {
        "id": "2cxzcYTWYtGC"
      },
      "source": [
        "Checking prepered the data\n"
      ]
    },
    {
      "cell_type": "code",
      "metadata": {
        "id": "FhreZMGoqKWV",
        "colab": {
          "base_uri": "https://localhost:8080/",
          "height": 1000
        },
        "outputId": "f2bf4b76-e8f3-4a53-846c-c4a2782b9db9"
      },
      "source": [
        "data"
      ],
      "execution_count": null,
      "outputs": [
        {
          "output_type": "execute_result",
          "data": {
            "text/html": [
              "<div>\n",
              "<style scoped>\n",
              "    .dataframe tbody tr th:only-of-type {\n",
              "        vertical-align: middle;\n",
              "    }\n",
              "\n",
              "    .dataframe tbody tr th {\n",
              "        vertical-align: top;\n",
              "    }\n",
              "\n",
              "    .dataframe thead th {\n",
              "        text-align: right;\n",
              "    }\n",
              "</style>\n",
              "<table border=\"1\" class=\"dataframe\">\n",
              "  <thead>\n",
              "    <tr style=\"text-align: right;\">\n",
              "      <th></th>\n",
              "      <th>Pozycja na karcie</th>\n",
              "      <th>Nazwisko</th>\n",
              "      <th>Imiona</th>\n",
              "      <th>Płeć</th>\n",
              "      <th>Wiek</th>\n",
              "      <th>Wykształcenie</th>\n",
              "      <th>Zawód</th>\n",
              "      <th>Miejsce pracy</th>\n",
              "      <th>Miejsce zamieszkania</th>\n",
              "      <th>Przynależność do partii</th>\n",
              "      <th>Nazwa komitetu</th>\n",
              "      <th>Sygnatura</th>\n",
              "      <th>TERYT m. z.</th>\n",
              "      <th>Gmina m.z.</th>\n",
              "      <th>Liczba głosów</th>\n",
              "      <th>Procent wszystkich głosów</th>\n",
              "      <th>Wybrany</th>\n",
              "      <th>Druga tura</th>\n",
              "    </tr>\n",
              "  </thead>\n",
              "  <tbody>\n",
              "    <tr>\n",
              "      <th>0</th>\n",
              "      <td>1</td>\n",
              "      <td>BIEDROŃ</td>\n",
              "      <td>Robert</td>\n",
              "      <td>Mężczyzna</td>\n",
              "      <td>44</td>\n",
              "      <td>wyższe politologiczne</td>\n",
              "      <td>poseł do Parlamentu Europejskiego</td>\n",
              "      <td>NaN</td>\n",
              "      <td>Warszawa</td>\n",
              "      <td>członek partii politycznej: Wiosna Roberta Bie...</td>\n",
              "      <td>KOMITET WYBORCZY KANDYDATA NA PREZYDENTA RZECZ...</td>\n",
              "      <td>ZPOW-6020-6/20</td>\n",
              "      <td>146501</td>\n",
              "      <td>Warszawa</td>\n",
              "      <td>432129</td>\n",
              "      <td>2,22</td>\n",
              "      <td>Nie</td>\n",
              "      <td>Nie</td>\n",
              "    </tr>\n",
              "    <tr>\n",
              "      <th>1</th>\n",
              "      <td>2</td>\n",
              "      <td>BOSAK</td>\n",
              "      <td>Krzysztof</td>\n",
              "      <td>Mężczyzna</td>\n",
              "      <td>38</td>\n",
              "      <td>średnie</td>\n",
              "      <td>poseł na Sejm Rzeczypospolitej Polskiej</td>\n",
              "      <td>NaN</td>\n",
              "      <td>Warszawa</td>\n",
              "      <td>członek partii politycznej: Konfederacja Wolno...</td>\n",
              "      <td>KOMITET WYBORCZY KANDYDATA NA PREZYDENTA RZECZ...</td>\n",
              "      <td>ZPOW-6020-1/20</td>\n",
              "      <td>146501</td>\n",
              "      <td>Warszawa</td>\n",
              "      <td>1317380</td>\n",
              "      <td>6,78</td>\n",
              "      <td>Nie</td>\n",
              "      <td>Nie</td>\n",
              "    </tr>\n",
              "    <tr>\n",
              "      <th>2</th>\n",
              "      <td>3</td>\n",
              "      <td>DUDA</td>\n",
              "      <td>Andrzej Sebastian</td>\n",
              "      <td>Mężczyzna</td>\n",
              "      <td>48</td>\n",
              "      <td>wyższe prawnicze</td>\n",
              "      <td>Prezydent Rzeczypospolitej Polskiej</td>\n",
              "      <td>NaN</td>\n",
              "      <td>Kraków</td>\n",
              "      <td>nie należy do partii politycznej</td>\n",
              "      <td>KOMITET WYBORCZY KANDYDATA NA PREZYDENTA RZECZ...</td>\n",
              "      <td>ZPOW-6020-5/20</td>\n",
              "      <td>126101</td>\n",
              "      <td>m. Kraków</td>\n",
              "      <td>8450513</td>\n",
              "      <td>43,50</td>\n",
              "      <td>Nie</td>\n",
              "      <td>Tak</td>\n",
              "    </tr>\n",
              "    <tr>\n",
              "      <th>3</th>\n",
              "      <td>4</td>\n",
              "      <td>HOŁOWNIA</td>\n",
              "      <td>Szymon Franciszek</td>\n",
              "      <td>Mężczyzna</td>\n",
              "      <td>43</td>\n",
              "      <td>średnie</td>\n",
              "      <td>publicysta</td>\n",
              "      <td>własna działalność gospodarcza</td>\n",
              "      <td>Otwock</td>\n",
              "      <td>nie należy do partii politycznej</td>\n",
              "      <td>KOMITET WYBORCZY KANDYDATA NA PREZYDENTA RZECZ...</td>\n",
              "      <td>ZPOW-6020-4/20</td>\n",
              "      <td>141702</td>\n",
              "      <td>m. Otwock</td>\n",
              "      <td>2693397</td>\n",
              "      <td>13,87</td>\n",
              "      <td>Nie</td>\n",
              "      <td>Nie</td>\n",
              "    </tr>\n",
              "    <tr>\n",
              "      <th>4</th>\n",
              "      <td>5</td>\n",
              "      <td>JAKUBIAK</td>\n",
              "      <td>Marek</td>\n",
              "      <td>Mężczyzna</td>\n",
              "      <td>61</td>\n",
              "      <td>średnie</td>\n",
              "      <td>menadżer</td>\n",
              "      <td>Browary Regionalne Jakubiak Sp. z o.o.</td>\n",
              "      <td>Warszawa</td>\n",
              "      <td>członek partii politycznej: Federacja dla Rzec...</td>\n",
              "      <td>KOMITET WYBORCZY KANDYDATA NA PREZYDENTA RZECZ...</td>\n",
              "      <td>ZPOW-6020-28/20</td>\n",
              "      <td>146501</td>\n",
              "      <td>Warszawa</td>\n",
              "      <td>33652</td>\n",
              "      <td>0,17</td>\n",
              "      <td>Nie</td>\n",
              "      <td>Nie</td>\n",
              "    </tr>\n",
              "    <tr>\n",
              "      <th>5</th>\n",
              "      <td>6</td>\n",
              "      <td>KOSINIAK-KAMYSZ</td>\n",
              "      <td>Władysław Marcin</td>\n",
              "      <td>Mężczyzna</td>\n",
              "      <td>38</td>\n",
              "      <td>wyższe medyczne</td>\n",
              "      <td>poseł na Sejm Rzeczypospolitej Polskiej</td>\n",
              "      <td>NaN</td>\n",
              "      <td>Kraków</td>\n",
              "      <td>członek partii politycznej: Polskie Stronnictw...</td>\n",
              "      <td>KOMITET WYBORCZY KANDYDATA NA PREZYDENTA RZECZ...</td>\n",
              "      <td>ZPOW-6020-2/20</td>\n",
              "      <td>126101</td>\n",
              "      <td>m. Kraków</td>\n",
              "      <td>459365</td>\n",
              "      <td>2,36</td>\n",
              "      <td>Nie</td>\n",
              "      <td>Nie</td>\n",
              "    </tr>\n",
              "    <tr>\n",
              "      <th>6</th>\n",
              "      <td>7</td>\n",
              "      <td>PIOTROWSKI</td>\n",
              "      <td>Mirosław Mariusz</td>\n",
              "      <td>Mężczyzna</td>\n",
              "      <td>54</td>\n",
              "      <td>wyższe historyczne</td>\n",
              "      <td>nauczyciel akademicki</td>\n",
              "      <td>Wyższa Szkoła Kultury Społecznej i Medialnej</td>\n",
              "      <td>Lublin</td>\n",
              "      <td>członek partii politycznej: Ruch Prawdziwa Eur...</td>\n",
              "      <td>KOMITET WYBORCZY KANDYDATA NA PREZYDENTA RZECZ...</td>\n",
              "      <td>ZPOW-6020-9/20</td>\n",
              "      <td>66301</td>\n",
              "      <td>m. Lublin</td>\n",
              "      <td>21065</td>\n",
              "      <td>0,11</td>\n",
              "      <td>Nie</td>\n",
              "      <td>Nie</td>\n",
              "    </tr>\n",
              "    <tr>\n",
              "      <th>7</th>\n",
              "      <td>8</td>\n",
              "      <td>TANAJNO</td>\n",
              "      <td>Paweł Jan</td>\n",
              "      <td>Mężczyzna</td>\n",
              "      <td>44</td>\n",
              "      <td>wyższe w zakresie zarządzania</td>\n",
              "      <td>przedsiębiorca</td>\n",
              "      <td>IAM4U.pl Sp. z o.o.</td>\n",
              "      <td>Warszawa</td>\n",
              "      <td>nie należy do partii politycznej</td>\n",
              "      <td>KOMITET WYBORCZY KANDYDATA NA PREZYDENTA RZECZ...</td>\n",
              "      <td>ZPOW-6020-13/20</td>\n",
              "      <td>146501</td>\n",
              "      <td>Warszawa</td>\n",
              "      <td>27909</td>\n",
              "      <td>0,14</td>\n",
              "      <td>Nie</td>\n",
              "      <td>Nie</td>\n",
              "    </tr>\n",
              "    <tr>\n",
              "      <th>8</th>\n",
              "      <td>9</td>\n",
              "      <td>TRZASKOWSKI</td>\n",
              "      <td>Rafał Kazimierz</td>\n",
              "      <td>Mężczyzna</td>\n",
              "      <td>48</td>\n",
              "      <td>wyższe politologiczne</td>\n",
              "      <td>pracownik samorządowy</td>\n",
              "      <td>Urząd m.st. Warszawy</td>\n",
              "      <td>Warszawa</td>\n",
              "      <td>członek partii politycznej: Platforma Obywatel...</td>\n",
              "      <td>KOMITET WYBORCZY KANDYDATA NA PREZYDENTA RZECZ...</td>\n",
              "      <td>ZPOW-6020-41/20</td>\n",
              "      <td>146501</td>\n",
              "      <td>Warszawa</td>\n",
              "      <td>5917340</td>\n",
              "      <td>30,46</td>\n",
              "      <td>Nie</td>\n",
              "      <td>Tak</td>\n",
              "    </tr>\n",
              "    <tr>\n",
              "      <th>9</th>\n",
              "      <td>10</td>\n",
              "      <td>WITKOWSKI</td>\n",
              "      <td>Waldemar Włodzimierz</td>\n",
              "      <td>Mężczyzna</td>\n",
              "      <td>66</td>\n",
              "      <td>wyższe</td>\n",
              "      <td>zarządca</td>\n",
              "      <td>Spółdzielnia Mieszkaniowa im. Hipolita Cegiels...</td>\n",
              "      <td>Poznań</td>\n",
              "      <td>członek partii politycznej: Unia Pracy</td>\n",
              "      <td>KOMITET WYBORCZY KANDYDATA NA PREZYDENTA RZECZ...</td>\n",
              "      <td>ZPOW-6020-20/20</td>\n",
              "      <td>306401</td>\n",
              "      <td>m. Poznań</td>\n",
              "      <td>27290</td>\n",
              "      <td>0,14</td>\n",
              "      <td>Nie</td>\n",
              "      <td>Nie</td>\n",
              "    </tr>\n",
              "    <tr>\n",
              "      <th>10</th>\n",
              "      <td>11</td>\n",
              "      <td>ŻÓŁTEK</td>\n",
              "      <td>Stanisław Józef</td>\n",
              "      <td>Mężczyzna</td>\n",
              "      <td>64</td>\n",
              "      <td>średnie</td>\n",
              "      <td>NaN</td>\n",
              "      <td>własna działalność</td>\n",
              "      <td>Kraków</td>\n",
              "      <td>członek partii politycznej: Kongres Nowej Prawicy</td>\n",
              "      <td>KOMITET WYBORCZY KANDYDATA NA PREZYDENTA RZECZ...</td>\n",
              "      <td>ZPOW-6020-10/20</td>\n",
              "      <td>126101</td>\n",
              "      <td>m. Kraków</td>\n",
              "      <td>45419</td>\n",
              "      <td>0,23</td>\n",
              "      <td>Nie</td>\n",
              "      <td>Nie</td>\n",
              "    </tr>\n",
              "  </tbody>\n",
              "</table>\n",
              "</div>"
            ],
            "text/plain": [
              "    Pozycja na karcie         Nazwisko  ... Wybrany Druga tura\n",
              "0                   1          BIEDROŃ  ...     Nie        Nie\n",
              "1                   2            BOSAK  ...     Nie        Nie\n",
              "2                   3             DUDA  ...     Nie        Tak\n",
              "3                   4         HOŁOWNIA  ...     Nie        Nie\n",
              "4                   5         JAKUBIAK  ...     Nie        Nie\n",
              "5                   6  KOSINIAK-KAMYSZ  ...     Nie        Nie\n",
              "6                   7       PIOTROWSKI  ...     Nie        Nie\n",
              "7                   8          TANAJNO  ...     Nie        Nie\n",
              "8                   9      TRZASKOWSKI  ...     Nie        Tak\n",
              "9                  10        WITKOWSKI  ...     Nie        Nie\n",
              "10                 11           ŻÓŁTEK  ...     Nie        Nie\n",
              "\n",
              "[11 rows x 18 columns]"
            ]
          },
          "metadata": {},
          "execution_count": 4
        }
      ]
    },
    {
      "cell_type": "markdown",
      "metadata": {
        "id": "zAdhcdXb5_7i"
      },
      "source": [
        "Cutting out the nessesary data"
      ]
    },
    {
      "cell_type": "markdown",
      "metadata": {
        "id": "9MQdBkA29qre"
      },
      "source": [
        ""
      ]
    },
    {
      "cell_type": "code",
      "metadata": {
        "id": "aeIWtbhqrttF"
      },
      "source": [
        "df = pd.DataFrame(data, columns = [\"Nazwisko\", \"Liczba głosów\", \"Procent wszystkich głosów\"])\n",
        "#df.reset_index(drop=True, col_level=1)\n",
        "#(drop= True, inplace = True, col_level=0)\n",
        "#ZMIANA INDEXU"
      ],
      "execution_count": null,
      "outputs": []
    },
    {
      "cell_type": "code",
      "metadata": {
        "colab": {
          "base_uri": "https://localhost:8080/",
          "height": 395
        },
        "id": "JlXl_tRbP_S_",
        "outputId": "80ddf1a4-e5a1-4370-80c5-d34fb6dc2c1d"
      },
      "source": [
        "df.index = df.index+1\n",
        "df"
      ],
      "execution_count": null,
      "outputs": [
        {
          "output_type": "execute_result",
          "data": {
            "text/html": [
              "<div>\n",
              "<style scoped>\n",
              "    .dataframe tbody tr th:only-of-type {\n",
              "        vertical-align: middle;\n",
              "    }\n",
              "\n",
              "    .dataframe tbody tr th {\n",
              "        vertical-align: top;\n",
              "    }\n",
              "\n",
              "    .dataframe thead th {\n",
              "        text-align: right;\n",
              "    }\n",
              "</style>\n",
              "<table border=\"1\" class=\"dataframe\">\n",
              "  <thead>\n",
              "    <tr style=\"text-align: right;\">\n",
              "      <th></th>\n",
              "      <th>Nazwisko</th>\n",
              "      <th>Liczba głosów</th>\n",
              "      <th>Procent wszystkich głosów</th>\n",
              "    </tr>\n",
              "  </thead>\n",
              "  <tbody>\n",
              "    <tr>\n",
              "      <th>1</th>\n",
              "      <td>BIEDROŃ</td>\n",
              "      <td>432129</td>\n",
              "      <td>2,22</td>\n",
              "    </tr>\n",
              "    <tr>\n",
              "      <th>2</th>\n",
              "      <td>BOSAK</td>\n",
              "      <td>1317380</td>\n",
              "      <td>6,78</td>\n",
              "    </tr>\n",
              "    <tr>\n",
              "      <th>3</th>\n",
              "      <td>DUDA</td>\n",
              "      <td>8450513</td>\n",
              "      <td>43,50</td>\n",
              "    </tr>\n",
              "    <tr>\n",
              "      <th>4</th>\n",
              "      <td>HOŁOWNIA</td>\n",
              "      <td>2693397</td>\n",
              "      <td>13,87</td>\n",
              "    </tr>\n",
              "    <tr>\n",
              "      <th>5</th>\n",
              "      <td>JAKUBIAK</td>\n",
              "      <td>33652</td>\n",
              "      <td>0,17</td>\n",
              "    </tr>\n",
              "    <tr>\n",
              "      <th>6</th>\n",
              "      <td>KOSINIAK-KAMYSZ</td>\n",
              "      <td>459365</td>\n",
              "      <td>2,36</td>\n",
              "    </tr>\n",
              "    <tr>\n",
              "      <th>7</th>\n",
              "      <td>PIOTROWSKI</td>\n",
              "      <td>21065</td>\n",
              "      <td>0,11</td>\n",
              "    </tr>\n",
              "    <tr>\n",
              "      <th>8</th>\n",
              "      <td>TANAJNO</td>\n",
              "      <td>27909</td>\n",
              "      <td>0,14</td>\n",
              "    </tr>\n",
              "    <tr>\n",
              "      <th>9</th>\n",
              "      <td>TRZASKOWSKI</td>\n",
              "      <td>5917340</td>\n",
              "      <td>30,46</td>\n",
              "    </tr>\n",
              "    <tr>\n",
              "      <th>10</th>\n",
              "      <td>WITKOWSKI</td>\n",
              "      <td>27290</td>\n",
              "      <td>0,14</td>\n",
              "    </tr>\n",
              "    <tr>\n",
              "      <th>11</th>\n",
              "      <td>ŻÓŁTEK</td>\n",
              "      <td>45419</td>\n",
              "      <td>0,23</td>\n",
              "    </tr>\n",
              "  </tbody>\n",
              "</table>\n",
              "</div>"
            ],
            "text/plain": [
              "           Nazwisko  Liczba głosów Procent wszystkich głosów\n",
              "1           BIEDROŃ         432129                      2,22\n",
              "2             BOSAK        1317380                      6,78\n",
              "3              DUDA        8450513                     43,50\n",
              "4          HOŁOWNIA        2693397                     13,87\n",
              "5          JAKUBIAK          33652                      0,17\n",
              "6   KOSINIAK-KAMYSZ         459365                      2,36\n",
              "7        PIOTROWSKI          21065                      0,11\n",
              "8           TANAJNO          27909                      0,14\n",
              "9       TRZASKOWSKI        5917340                     30,46\n",
              "10        WITKOWSKI          27290                      0,14\n",
              "11           ŻÓŁTEK          45419                      0,23"
            ]
          },
          "metadata": {},
          "execution_count": 6
        }
      ]
    },
    {
      "cell_type": "markdown",
      "metadata": {
        "id": "TBma9oHr7EOd"
      },
      "source": [
        "Repleacing commas with dots so Python can see them"
      ]
    },
    {
      "cell_type": "code",
      "metadata": {
        "colab": {
          "base_uri": "https://localhost:8080/",
          "height": 395
        },
        "id": "CmfKUE-Op11p",
        "outputId": "62f2950f-b0a8-46f0-a2ae-cb27c4d5532d"
      },
      "source": [
        "df.columns = [\"Nazwisko\", \"Liczba glosow\", \"Procent wszystkich glosow\"]\n",
        "df"
      ],
      "execution_count": null,
      "outputs": [
        {
          "output_type": "execute_result",
          "data": {
            "text/html": [
              "<div>\n",
              "<style scoped>\n",
              "    .dataframe tbody tr th:only-of-type {\n",
              "        vertical-align: middle;\n",
              "    }\n",
              "\n",
              "    .dataframe tbody tr th {\n",
              "        vertical-align: top;\n",
              "    }\n",
              "\n",
              "    .dataframe thead th {\n",
              "        text-align: right;\n",
              "    }\n",
              "</style>\n",
              "<table border=\"1\" class=\"dataframe\">\n",
              "  <thead>\n",
              "    <tr style=\"text-align: right;\">\n",
              "      <th></th>\n",
              "      <th>Nazwisko</th>\n",
              "      <th>Liczba glosow</th>\n",
              "      <th>Procent wszystkich glosow</th>\n",
              "    </tr>\n",
              "  </thead>\n",
              "  <tbody>\n",
              "    <tr>\n",
              "      <th>1</th>\n",
              "      <td>BIEDROŃ</td>\n",
              "      <td>432129</td>\n",
              "      <td>2,22</td>\n",
              "    </tr>\n",
              "    <tr>\n",
              "      <th>2</th>\n",
              "      <td>BOSAK</td>\n",
              "      <td>1317380</td>\n",
              "      <td>6,78</td>\n",
              "    </tr>\n",
              "    <tr>\n",
              "      <th>3</th>\n",
              "      <td>DUDA</td>\n",
              "      <td>8450513</td>\n",
              "      <td>43,50</td>\n",
              "    </tr>\n",
              "    <tr>\n",
              "      <th>4</th>\n",
              "      <td>HOŁOWNIA</td>\n",
              "      <td>2693397</td>\n",
              "      <td>13,87</td>\n",
              "    </tr>\n",
              "    <tr>\n",
              "      <th>5</th>\n",
              "      <td>JAKUBIAK</td>\n",
              "      <td>33652</td>\n",
              "      <td>0,17</td>\n",
              "    </tr>\n",
              "    <tr>\n",
              "      <th>6</th>\n",
              "      <td>KOSINIAK-KAMYSZ</td>\n",
              "      <td>459365</td>\n",
              "      <td>2,36</td>\n",
              "    </tr>\n",
              "    <tr>\n",
              "      <th>7</th>\n",
              "      <td>PIOTROWSKI</td>\n",
              "      <td>21065</td>\n",
              "      <td>0,11</td>\n",
              "    </tr>\n",
              "    <tr>\n",
              "      <th>8</th>\n",
              "      <td>TANAJNO</td>\n",
              "      <td>27909</td>\n",
              "      <td>0,14</td>\n",
              "    </tr>\n",
              "    <tr>\n",
              "      <th>9</th>\n",
              "      <td>TRZASKOWSKI</td>\n",
              "      <td>5917340</td>\n",
              "      <td>30,46</td>\n",
              "    </tr>\n",
              "    <tr>\n",
              "      <th>10</th>\n",
              "      <td>WITKOWSKI</td>\n",
              "      <td>27290</td>\n",
              "      <td>0,14</td>\n",
              "    </tr>\n",
              "    <tr>\n",
              "      <th>11</th>\n",
              "      <td>ŻÓŁTEK</td>\n",
              "      <td>45419</td>\n",
              "      <td>0,23</td>\n",
              "    </tr>\n",
              "  </tbody>\n",
              "</table>\n",
              "</div>"
            ],
            "text/plain": [
              "           Nazwisko  Liczba glosow Procent wszystkich glosow\n",
              "1           BIEDROŃ         432129                      2,22\n",
              "2             BOSAK        1317380                      6,78\n",
              "3              DUDA        8450513                     43,50\n",
              "4          HOŁOWNIA        2693397                     13,87\n",
              "5          JAKUBIAK          33652                      0,17\n",
              "6   KOSINIAK-KAMYSZ         459365                      2,36\n",
              "7        PIOTROWSKI          21065                      0,11\n",
              "8           TANAJNO          27909                      0,14\n",
              "9       TRZASKOWSKI        5917340                     30,46\n",
              "10        WITKOWSKI          27290                      0,14\n",
              "11           ŻÓŁTEK          45419                      0,23"
            ]
          },
          "metadata": {},
          "execution_count": 7
        }
      ]
    },
    {
      "cell_type": "code",
      "metadata": {
        "colab": {
          "base_uri": "https://localhost:8080/",
          "height": 395
        },
        "id": "D5pZ_-PdpkXu",
        "outputId": "36f20f27-a63c-49e9-945c-fc77be16d8c3"
      },
      "source": [
        "new_headlines = []\n",
        "for column in df.columns:\n",
        "  column = column.replace(\" \", \"_\").upper()\n",
        "  \n",
        "  new_headlines.append(column)\n",
        "\n",
        "df.columns = new_headlines\n",
        "df.columns\n",
        "df\n"
      ],
      "execution_count": null,
      "outputs": [
        {
          "output_type": "execute_result",
          "data": {
            "text/html": [
              "<div>\n",
              "<style scoped>\n",
              "    .dataframe tbody tr th:only-of-type {\n",
              "        vertical-align: middle;\n",
              "    }\n",
              "\n",
              "    .dataframe tbody tr th {\n",
              "        vertical-align: top;\n",
              "    }\n",
              "\n",
              "    .dataframe thead th {\n",
              "        text-align: right;\n",
              "    }\n",
              "</style>\n",
              "<table border=\"1\" class=\"dataframe\">\n",
              "  <thead>\n",
              "    <tr style=\"text-align: right;\">\n",
              "      <th></th>\n",
              "      <th>NAZWISKO</th>\n",
              "      <th>LICZBA_GLOSOW</th>\n",
              "      <th>PROCENT_WSZYSTKICH_GLOSOW</th>\n",
              "    </tr>\n",
              "  </thead>\n",
              "  <tbody>\n",
              "    <tr>\n",
              "      <th>1</th>\n",
              "      <td>BIEDROŃ</td>\n",
              "      <td>432129</td>\n",
              "      <td>2,22</td>\n",
              "    </tr>\n",
              "    <tr>\n",
              "      <th>2</th>\n",
              "      <td>BOSAK</td>\n",
              "      <td>1317380</td>\n",
              "      <td>6,78</td>\n",
              "    </tr>\n",
              "    <tr>\n",
              "      <th>3</th>\n",
              "      <td>DUDA</td>\n",
              "      <td>8450513</td>\n",
              "      <td>43,50</td>\n",
              "    </tr>\n",
              "    <tr>\n",
              "      <th>4</th>\n",
              "      <td>HOŁOWNIA</td>\n",
              "      <td>2693397</td>\n",
              "      <td>13,87</td>\n",
              "    </tr>\n",
              "    <tr>\n",
              "      <th>5</th>\n",
              "      <td>JAKUBIAK</td>\n",
              "      <td>33652</td>\n",
              "      <td>0,17</td>\n",
              "    </tr>\n",
              "    <tr>\n",
              "      <th>6</th>\n",
              "      <td>KOSINIAK-KAMYSZ</td>\n",
              "      <td>459365</td>\n",
              "      <td>2,36</td>\n",
              "    </tr>\n",
              "    <tr>\n",
              "      <th>7</th>\n",
              "      <td>PIOTROWSKI</td>\n",
              "      <td>21065</td>\n",
              "      <td>0,11</td>\n",
              "    </tr>\n",
              "    <tr>\n",
              "      <th>8</th>\n",
              "      <td>TANAJNO</td>\n",
              "      <td>27909</td>\n",
              "      <td>0,14</td>\n",
              "    </tr>\n",
              "    <tr>\n",
              "      <th>9</th>\n",
              "      <td>TRZASKOWSKI</td>\n",
              "      <td>5917340</td>\n",
              "      <td>30,46</td>\n",
              "    </tr>\n",
              "    <tr>\n",
              "      <th>10</th>\n",
              "      <td>WITKOWSKI</td>\n",
              "      <td>27290</td>\n",
              "      <td>0,14</td>\n",
              "    </tr>\n",
              "    <tr>\n",
              "      <th>11</th>\n",
              "      <td>ŻÓŁTEK</td>\n",
              "      <td>45419</td>\n",
              "      <td>0,23</td>\n",
              "    </tr>\n",
              "  </tbody>\n",
              "</table>\n",
              "</div>"
            ],
            "text/plain": [
              "           NAZWISKO  LICZBA_GLOSOW PROCENT_WSZYSTKICH_GLOSOW\n",
              "1           BIEDROŃ         432129                      2,22\n",
              "2             BOSAK        1317380                      6,78\n",
              "3              DUDA        8450513                     43,50\n",
              "4          HOŁOWNIA        2693397                     13,87\n",
              "5          JAKUBIAK          33652                      0,17\n",
              "6   KOSINIAK-KAMYSZ         459365                      2,36\n",
              "7        PIOTROWSKI          21065                      0,11\n",
              "8           TANAJNO          27909                      0,14\n",
              "9       TRZASKOWSKI        5917340                     30,46\n",
              "10        WITKOWSKI          27290                      0,14\n",
              "11           ŻÓŁTEK          45419                      0,23"
            ]
          },
          "metadata": {},
          "execution_count": 8
        }
      ]
    },
    {
      "cell_type": "code",
      "metadata": {
        "id": "RM1a9yCH0rZS"
      },
      "source": [
        "df[\"PROCENT_WSZYSTKICH_GLOSOW\"] = df[\"PROCENT_WSZYSTKICH_GLOSOW\"].str.replace(\",\", \".\")"
      ],
      "execution_count": null,
      "outputs": []
    },
    {
      "cell_type": "markdown",
      "metadata": {
        "id": "WYY4kRPI9viH"
      },
      "source": [
        ""
      ]
    },
    {
      "cell_type": "markdown",
      "metadata": {
        "id": "GGaFZEE97cnb"
      },
      "source": [
        "Replacing object with float to use values"
      ]
    },
    {
      "cell_type": "code",
      "metadata": {
        "colab": {
          "base_uri": "https://localhost:8080/"
        },
        "id": "gR0R2fHp0zDi",
        "outputId": "65c5499a-218e-4882-e28a-428e70075a40"
      },
      "source": [
        "df.info()"
      ],
      "execution_count": null,
      "outputs": [
        {
          "output_type": "stream",
          "text": [
            "<class 'pandas.core.frame.DataFrame'>\n",
            "RangeIndex: 11 entries, 1 to 11\n",
            "Data columns (total 3 columns):\n",
            " #   Column                     Non-Null Count  Dtype \n",
            "---  ------                     --------------  ----- \n",
            " 0   NAZWISKO                   11 non-null     object\n",
            " 1   LICZBA_GLOSOW              11 non-null     int64 \n",
            " 2   PROCENT_WSZYSTKICH_GLOSOW  11 non-null     object\n",
            "dtypes: int64(1), object(2)\n",
            "memory usage: 396.0+ bytes\n"
          ],
          "name": "stdout"
        }
      ]
    },
    {
      "cell_type": "code",
      "metadata": {
        "id": "mqisg1ztQo2V"
      },
      "source": [
        "df[\"PROCENT_WSZYSTKICH_GLOSOW\"] = df[\"PROCENT_WSZYSTKICH_GLOSOW\"].astype(str).astype(float)"
      ],
      "execution_count": null,
      "outputs": []
    },
    {
      "cell_type": "code",
      "metadata": {
        "colab": {
          "base_uri": "https://localhost:8080/"
        },
        "id": "-VoLdGFg8uaC",
        "outputId": "46d39db1-94b5-4838-a326-948e2f2d7fdc"
      },
      "source": [
        "df.info()"
      ],
      "execution_count": null,
      "outputs": [
        {
          "output_type": "stream",
          "text": [
            "<class 'pandas.core.frame.DataFrame'>\n",
            "RangeIndex: 11 entries, 1 to 11\n",
            "Data columns (total 3 columns):\n",
            " #   Column                     Non-Null Count  Dtype  \n",
            "---  ------                     --------------  -----  \n",
            " 0   NAZWISKO                   11 non-null     object \n",
            " 1   LICZBA_GLOSOW              11 non-null     int64  \n",
            " 2   PROCENT_WSZYSTKICH_GLOSOW  11 non-null     float64\n",
            "dtypes: float64(1), int64(1), object(1)\n",
            "memory usage: 396.0+ bytes\n"
          ],
          "name": "stdout"
        }
      ]
    },
    {
      "cell_type": "markdown",
      "metadata": {
        "id": "mmtGqGuK7-I_"
      },
      "source": [
        "Sorting data"
      ]
    },
    {
      "cell_type": "code",
      "metadata": {
        "id": "L3mrMXJSW-9d"
      },
      "source": [
        "df = df.sort_values(by=\"PROCENT_WSZYSTKICH_GLOSOW\").reset_index(drop=True)\n"
      ],
      "execution_count": null,
      "outputs": []
    },
    {
      "cell_type": "code",
      "metadata": {
        "id": "wbfZpizaxWz4"
      },
      "source": [
        "df.index = df.index+1\n"
      ],
      "execution_count": null,
      "outputs": []
    },
    {
      "cell_type": "code",
      "metadata": {
        "colab": {
          "base_uri": "https://localhost:8080/",
          "height": 395
        },
        "id": "Tf1is1T-9aJu",
        "outputId": "f17b65ef-2e63-4b3d-eab6-69b27c2b7458"
      },
      "source": [
        "df"
      ],
      "execution_count": null,
      "outputs": [
        {
          "output_type": "execute_result",
          "data": {
            "text/html": [
              "<div>\n",
              "<style scoped>\n",
              "    .dataframe tbody tr th:only-of-type {\n",
              "        vertical-align: middle;\n",
              "    }\n",
              "\n",
              "    .dataframe tbody tr th {\n",
              "        vertical-align: top;\n",
              "    }\n",
              "\n",
              "    .dataframe thead th {\n",
              "        text-align: right;\n",
              "    }\n",
              "</style>\n",
              "<table border=\"1\" class=\"dataframe\">\n",
              "  <thead>\n",
              "    <tr style=\"text-align: right;\">\n",
              "      <th></th>\n",
              "      <th>NAZWISKO</th>\n",
              "      <th>LICZBA_GLOSOW</th>\n",
              "      <th>PROCENT_WSZYSTKICH_GLOSOW</th>\n",
              "    </tr>\n",
              "  </thead>\n",
              "  <tbody>\n",
              "    <tr>\n",
              "      <th>1</th>\n",
              "      <td>PIOTROWSKI</td>\n",
              "      <td>21065</td>\n",
              "      <td>0.11</td>\n",
              "    </tr>\n",
              "    <tr>\n",
              "      <th>2</th>\n",
              "      <td>TANAJNO</td>\n",
              "      <td>27909</td>\n",
              "      <td>0.14</td>\n",
              "    </tr>\n",
              "    <tr>\n",
              "      <th>3</th>\n",
              "      <td>WITKOWSKI</td>\n",
              "      <td>27290</td>\n",
              "      <td>0.14</td>\n",
              "    </tr>\n",
              "    <tr>\n",
              "      <th>4</th>\n",
              "      <td>JAKUBIAK</td>\n",
              "      <td>33652</td>\n",
              "      <td>0.17</td>\n",
              "    </tr>\n",
              "    <tr>\n",
              "      <th>5</th>\n",
              "      <td>ŻÓŁTEK</td>\n",
              "      <td>45419</td>\n",
              "      <td>0.23</td>\n",
              "    </tr>\n",
              "    <tr>\n",
              "      <th>6</th>\n",
              "      <td>BIEDROŃ</td>\n",
              "      <td>432129</td>\n",
              "      <td>2.22</td>\n",
              "    </tr>\n",
              "    <tr>\n",
              "      <th>7</th>\n",
              "      <td>KOSINIAK-KAMYSZ</td>\n",
              "      <td>459365</td>\n",
              "      <td>2.36</td>\n",
              "    </tr>\n",
              "    <tr>\n",
              "      <th>8</th>\n",
              "      <td>BOSAK</td>\n",
              "      <td>1317380</td>\n",
              "      <td>6.78</td>\n",
              "    </tr>\n",
              "    <tr>\n",
              "      <th>9</th>\n",
              "      <td>HOŁOWNIA</td>\n",
              "      <td>2693397</td>\n",
              "      <td>13.87</td>\n",
              "    </tr>\n",
              "    <tr>\n",
              "      <th>10</th>\n",
              "      <td>TRZASKOWSKI</td>\n",
              "      <td>5917340</td>\n",
              "      <td>30.46</td>\n",
              "    </tr>\n",
              "    <tr>\n",
              "      <th>11</th>\n",
              "      <td>DUDA</td>\n",
              "      <td>8450513</td>\n",
              "      <td>43.50</td>\n",
              "    </tr>\n",
              "  </tbody>\n",
              "</table>\n",
              "</div>"
            ],
            "text/plain": [
              "           NAZWISKO  LICZBA_GLOSOW  PROCENT_WSZYSTKICH_GLOSOW\n",
              "1        PIOTROWSKI          21065                       0.11\n",
              "2           TANAJNO          27909                       0.14\n",
              "3         WITKOWSKI          27290                       0.14\n",
              "4          JAKUBIAK          33652                       0.17\n",
              "5            ŻÓŁTEK          45419                       0.23\n",
              "6           BIEDROŃ         432129                       2.22\n",
              "7   KOSINIAK-KAMYSZ         459365                       2.36\n",
              "8             BOSAK        1317380                       6.78\n",
              "9          HOŁOWNIA        2693397                      13.87\n",
              "10      TRZASKOWSKI        5917340                      30.46\n",
              "11             DUDA        8450513                      43.50"
            ]
          },
          "metadata": {},
          "execution_count": 15
        }
      ]
    },
    {
      "cell_type": "markdown",
      "metadata": {
        "id": "AH-zkDmCAnvX"
      },
      "source": [
        "Prepering data to bar plot"
      ]
    },
    {
      "cell_type": "code",
      "metadata": {
        "id": "BAhpU9i8EimJ"
      },
      "source": [
        "names = list(df[\"NAZWISKO\"])\n",
        "votes = list(df[\"LICZBA_GLOSOW\"])"
      ],
      "execution_count": null,
      "outputs": []
    },
    {
      "cell_type": "markdown",
      "metadata": {
        "id": "6ExuQll_A0YY"
      },
      "source": [
        "Bar plot"
      ]
    },
    {
      "cell_type": "code",
      "metadata": {
        "colab": {
          "base_uri": "https://localhost:8080/",
          "height": 336
        },
        "id": "i-ONv7an6Rtu",
        "outputId": "ef2999d2-5a60-4ec0-8973-423d263ab02f"
      },
      "source": [
        "plt.figure(figsize=[15,5])\n",
        "plt.title(\"Presidential election 2020 results\")\n",
        "plt.ylabel(\"Candidates\")\n",
        "#plt.grid( linestyle='--', linewidth=1, axis='y')\n",
        "plt.bar(names,votes,ec=\"black\")\n",
        "plt.legend([\"Number of votes\"])\n",
        "for i in range(len(votes)):\n",
        "  plt.text(i,votes[i], votes[i],ha=\"center\",va=\"bottom\")\n",
        "\n",
        "\n",
        "plt.show()\n",
        "\n",
        "\n"
      ],
      "execution_count": null,
      "outputs": [
        {
          "output_type": "display_data",
          "data": {
            "image/png": "[encoded data removed]",
            "text/plain": [
              "<Figure size 1080x360 with 1 Axes>"
            ]
          },
          "metadata": {
            "needs_background": "light"
          }
        }
      ]
    },
    {
      "cell_type": "code",
      "metadata": {
        "id": "5-DlHrwhArsQ"
      },
      "source": [
        "percent = list(df[\"PROCENT_WSZYSTKICH_GLOSOW\"])"
      ],
      "execution_count": null,
      "outputs": []
    },
    {
      "cell_type": "code",
      "metadata": {
        "id": "YHJ2QSOnVzl-",
        "colab": {
          "base_uri": "https://localhost:8080/",
          "height": 439
        },
        "outputId": "b9032347-414c-4763-b874-012e844b1d46"
      },
      "source": [
        "x = names\n",
        "y = percent\n",
        "plt.figure(figsize=[5,7])\n",
        "explode = (0,0,0,0,0,0,0,0,0,0.0,0.1)\n",
        "patches, texts = plt.pie(y, explode=explode, startangle=90, radius=1.8)\n",
        "labels = ['{0} - {1:1.2f} %'.format(i,j) for i,j in zip(x, y)]\n",
        "\n",
        "sort_legend = True\n",
        "if sort_legend:\n",
        "    patches, labels, dummy =  zip(*sorted(zip(patches, labels, y),\n",
        "                                          key=lambda x: x[2],\n",
        "                                          reverse=True))\n",
        "\n",
        "plt.legend(patches, labels, loc='upper right', bbox_to_anchor=(1.8, .3),\n",
        "           fontsize=8)\n",
        "\n",
        "plt.savefig('piechart.png', bbox_inches='tight')\n",
        "\n",
        "plt.show()\n"
      ],
      "execution_count": null,
      "outputs": [
        {
          "output_type": "display_data",
          "data": {
            "image/png": "[encoded data removed]",
            "text/plain": [
              "<Figure size 360x504 with 1 Axes>"
            ]
          },
          "metadata": {}
        }
      ]
    },
    {
      "cell_type": "code",
      "metadata": {
        "id": "nIjGJpD6WM5v",
        "colab": {
          "base_uri": "https://localhost:8080/",
          "height": 395
        },
        "outputId": "205f8ce6-f96d-488c-edf6-23fe352ae034"
      },
      "source": [
        "df"
      ],
      "execution_count": null,
      "outputs": [
        {
          "output_type": "execute_result",
          "data": {
            "text/html": [
              "<div>\n",
              "<style scoped>\n",
              "    .dataframe tbody tr th:only-of-type {\n",
              "        vertical-align: middle;\n",
              "    }\n",
              "\n",
              "    .dataframe tbody tr th {\n",
              "        vertical-align: top;\n",
              "    }\n",
              "\n",
              "    .dataframe thead th {\n",
              "        text-align: right;\n",
              "    }\n",
              "</style>\n",
              "<table border=\"1\" class=\"dataframe\">\n",
              "  <thead>\n",
              "    <tr style=\"text-align: right;\">\n",
              "      <th></th>\n",
              "      <th>NAZWISKO</th>\n",
              "      <th>LICZBA_GLOSOW</th>\n",
              "      <th>PROCENT_WSZYSTKICH_GLOSOW</th>\n",
              "    </tr>\n",
              "  </thead>\n",
              "  <tbody>\n",
              "    <tr>\n",
              "      <th>1</th>\n",
              "      <td>PIOTROWSKI</td>\n",
              "      <td>21065</td>\n",
              "      <td>0.11</td>\n",
              "    </tr>\n",
              "    <tr>\n",
              "      <th>2</th>\n",
              "      <td>TANAJNO</td>\n",
              "      <td>27909</td>\n",
              "      <td>0.14</td>\n",
              "    </tr>\n",
              "    <tr>\n",
              "      <th>3</th>\n",
              "      <td>WITKOWSKI</td>\n",
              "      <td>27290</td>\n",
              "      <td>0.14</td>\n",
              "    </tr>\n",
              "    <tr>\n",
              "      <th>4</th>\n",
              "      <td>JAKUBIAK</td>\n",
              "      <td>33652</td>\n",
              "      <td>0.17</td>\n",
              "    </tr>\n",
              "    <tr>\n",
              "      <th>5</th>\n",
              "      <td>ŻÓŁTEK</td>\n",
              "      <td>45419</td>\n",
              "      <td>0.23</td>\n",
              "    </tr>\n",
              "    <tr>\n",
              "      <th>6</th>\n",
              "      <td>BIEDROŃ</td>\n",
              "      <td>432129</td>\n",
              "      <td>2.22</td>\n",
              "    </tr>\n",
              "    <tr>\n",
              "      <th>7</th>\n",
              "      <td>KOSINIAK-KAMYSZ</td>\n",
              "      <td>459365</td>\n",
              "      <td>2.36</td>\n",
              "    </tr>\n",
              "    <tr>\n",
              "      <th>8</th>\n",
              "      <td>BOSAK</td>\n",
              "      <td>1317380</td>\n",
              "      <td>6.78</td>\n",
              "    </tr>\n",
              "    <tr>\n",
              "      <th>9</th>\n",
              "      <td>HOŁOWNIA</td>\n",
              "      <td>2693397</td>\n",
              "      <td>13.87</td>\n",
              "    </tr>\n",
              "    <tr>\n",
              "      <th>10</th>\n",
              "      <td>TRZASKOWSKI</td>\n",
              "      <td>5917340</td>\n",
              "      <td>30.46</td>\n",
              "    </tr>\n",
              "    <tr>\n",
              "      <th>11</th>\n",
              "      <td>DUDA</td>\n",
              "      <td>8450513</td>\n",
              "      <td>43.50</td>\n",
              "    </tr>\n",
              "  </tbody>\n",
              "</table>\n",
              "</div>"
            ],
            "text/plain": [
              "           NAZWISKO  LICZBA_GLOSOW  PROCENT_WSZYSTKICH_GLOSOW\n",
              "1        PIOTROWSKI          21065                       0.11\n",
              "2           TANAJNO          27909                       0.14\n",
              "3         WITKOWSKI          27290                       0.14\n",
              "4          JAKUBIAK          33652                       0.17\n",
              "5            ŻÓŁTEK          45419                       0.23\n",
              "6           BIEDROŃ         432129                       2.22\n",
              "7   KOSINIAK-KAMYSZ         459365                       2.36\n",
              "8             BOSAK        1317380                       6.78\n",
              "9          HOŁOWNIA        2693397                      13.87\n",
              "10      TRZASKOWSKI        5917340                      30.46\n",
              "11             DUDA        8450513                      43.50"
            ]
          },
          "metadata": {},
          "execution_count": 20
        }
      ]
    },
    {
      "cell_type": "markdown",
      "metadata": {
        "id": "ZAn0Og2hwVeq"
      },
      "source": [
        ""
      ]
    },
    {
      "cell_type": "code",
      "metadata": {
        "colab": {
          "base_uri": "https://localhost:8080/",
          "height": 238
        },
        "id": "Fn3MJg-glHHz",
        "outputId": "e1dca60f-9575-4754-b784-bc64df43a2f5"
      },
      "source": [
        "df_sorted = df[(df['PROCENT_WSZYSTKICH_GLOSOW'] >= 1.0)]\n",
        "#df_sorted = df_sorted.reset_index(drop=True)\n",
        "df_sorted"
      ],
      "execution_count": null,
      "outputs": [
        {
          "output_type": "execute_result",
          "data": {
            "text/html": [
              "<div>\n",
              "<style scoped>\n",
              "    .dataframe tbody tr th:only-of-type {\n",
              "        vertical-align: middle;\n",
              "    }\n",
              "\n",
              "    .dataframe tbody tr th {\n",
              "        vertical-align: top;\n",
              "    }\n",
              "\n",
              "    .dataframe thead th {\n",
              "        text-align: right;\n",
              "    }\n",
              "</style>\n",
              "<table border=\"1\" class=\"dataframe\">\n",
              "  <thead>\n",
              "    <tr style=\"text-align: right;\">\n",
              "      <th></th>\n",
              "      <th>NAZWISKO</th>\n",
              "      <th>LICZBA_GLOSOW</th>\n",
              "      <th>PROCENT_WSZYSTKICH_GLOSOW</th>\n",
              "    </tr>\n",
              "  </thead>\n",
              "  <tbody>\n",
              "    <tr>\n",
              "      <th>6</th>\n",
              "      <td>BIEDROŃ</td>\n",
              "      <td>432129</td>\n",
              "      <td>2.22</td>\n",
              "    </tr>\n",
              "    <tr>\n",
              "      <th>7</th>\n",
              "      <td>KOSINIAK-KAMYSZ</td>\n",
              "      <td>459365</td>\n",
              "      <td>2.36</td>\n",
              "    </tr>\n",
              "    <tr>\n",
              "      <th>8</th>\n",
              "      <td>BOSAK</td>\n",
              "      <td>1317380</td>\n",
              "      <td>6.78</td>\n",
              "    </tr>\n",
              "    <tr>\n",
              "      <th>9</th>\n",
              "      <td>HOŁOWNIA</td>\n",
              "      <td>2693397</td>\n",
              "      <td>13.87</td>\n",
              "    </tr>\n",
              "    <tr>\n",
              "      <th>10</th>\n",
              "      <td>TRZASKOWSKI</td>\n",
              "      <td>5917340</td>\n",
              "      <td>30.46</td>\n",
              "    </tr>\n",
              "    <tr>\n",
              "      <th>11</th>\n",
              "      <td>DUDA</td>\n",
              "      <td>8450513</td>\n",
              "      <td>43.50</td>\n",
              "    </tr>\n",
              "  </tbody>\n",
              "</table>\n",
              "</div>"
            ],
            "text/plain": [
              "           NAZWISKO  LICZBA_GLOSOW  PROCENT_WSZYSTKICH_GLOSOW\n",
              "6           BIEDROŃ         432129                       2.22\n",
              "7   KOSINIAK-KAMYSZ         459365                       2.36\n",
              "8             BOSAK        1317380                       6.78\n",
              "9          HOŁOWNIA        2693397                      13.87\n",
              "10      TRZASKOWSKI        5917340                      30.46\n",
              "11             DUDA        8450513                      43.50"
            ]
          },
          "metadata": {},
          "execution_count": 21
        }
      ]
    },
    {
      "cell_type": "code",
      "metadata": {
        "id": "iGsCn69jmrqK",
        "colab": {
          "base_uri": "https://localhost:8080/",
          "height": 336
        },
        "outputId": "96bbf1e9-805e-4cd3-a970-6d0e6a27ebd8"
      },
      "source": [
        "names_sorted = list(df_sorted[(\"NAZWISKO\")])\n",
        "votes_sorted = list(df_sorted[(\"LICZBA_GLOSOW\")])\n",
        "plt.figure(figsize=[15,5])\n",
        "plt.title(\"Presidential election 2020 results - more than 1 %\")\n",
        "plt.ylabel(\"Candidates\")\n",
        "#plt.grid( linestyle='--', linewidth=1, axis='y')\n",
        "plt.bar(names_sorted,votes_sorted,ec=\"black\")\n",
        "plt.legend([\"Number of votes\"])\n",
        "for i in range(len(votes_sorted)):\n",
        "  plt.text(i,votes_sorted[i], votes_sorted[i],ha=\"center\",va=\"bottom\")\n",
        "\n",
        "\n",
        "plt.show()\n",
        "\n"
      ],
      "execution_count": null,
      "outputs": [
        {
          "output_type": "display_data",
          "data": {
            "image/png": "[encoded data removed]",
            "text/plain": [
              "<Figure size 1080x360 with 1 Axes>"
            ]
          },
          "metadata": {
            "needs_background": "light"
          }
        }
      ]
    },
    {
      "cell_type": "code",
      "metadata": {
        "id": "RTUtJ40X9en8"
      },
      "source": [
        "#wykres kołowy w % pokazujący poparcie kandydatów, którzy weszli do 2 tury, z\n",
        "#trzecią pozycją “pozostali” - sumującą wyniki kandydatów, którzy nie weszli do\n",
        "#drugiej tury"
      ],
      "execution_count": null,
      "outputs": []
    },
    {
      "cell_type": "code",
      "metadata": {
        "colab": {
          "base_uri": "https://localhost:8080/",
          "height": 395
        },
        "id": "FHVCNvfePhHZ",
        "outputId": "6525d076-db27-4471-e60d-90f953870de3"
      },
      "source": [
        "df\n"
      ],
      "execution_count": null,
      "outputs": [
        {
          "output_type": "execute_result",
          "data": {
            "text/html": [
              "<div>\n",
              "<style scoped>\n",
              "    .dataframe tbody tr th:only-of-type {\n",
              "        vertical-align: middle;\n",
              "    }\n",
              "\n",
              "    .dataframe tbody tr th {\n",
              "        vertical-align: top;\n",
              "    }\n",
              "\n",
              "    .dataframe thead th {\n",
              "        text-align: right;\n",
              "    }\n",
              "</style>\n",
              "<table border=\"1\" class=\"dataframe\">\n",
              "  <thead>\n",
              "    <tr style=\"text-align: right;\">\n",
              "      <th></th>\n",
              "      <th>NAZWISKO</th>\n",
              "      <th>LICZBA_GLOSOW</th>\n",
              "      <th>PROCENT_WSZYSTKICH_GLOSOW</th>\n",
              "    </tr>\n",
              "  </thead>\n",
              "  <tbody>\n",
              "    <tr>\n",
              "      <th>1</th>\n",
              "      <td>PIOTROWSKI</td>\n",
              "      <td>21065</td>\n",
              "      <td>0.11</td>\n",
              "    </tr>\n",
              "    <tr>\n",
              "      <th>2</th>\n",
              "      <td>TANAJNO</td>\n",
              "      <td>27909</td>\n",
              "      <td>0.14</td>\n",
              "    </tr>\n",
              "    <tr>\n",
              "      <th>3</th>\n",
              "      <td>WITKOWSKI</td>\n",
              "      <td>27290</td>\n",
              "      <td>0.14</td>\n",
              "    </tr>\n",
              "    <tr>\n",
              "      <th>4</th>\n",
              "      <td>JAKUBIAK</td>\n",
              "      <td>33652</td>\n",
              "      <td>0.17</td>\n",
              "    </tr>\n",
              "    <tr>\n",
              "      <th>5</th>\n",
              "      <td>ŻÓŁTEK</td>\n",
              "      <td>45419</td>\n",
              "      <td>0.23</td>\n",
              "    </tr>\n",
              "    <tr>\n",
              "      <th>6</th>\n",
              "      <td>BIEDROŃ</td>\n",
              "      <td>432129</td>\n",
              "      <td>2.22</td>\n",
              "    </tr>\n",
              "    <tr>\n",
              "      <th>7</th>\n",
              "      <td>KOSINIAK-KAMYSZ</td>\n",
              "      <td>459365</td>\n",
              "      <td>2.36</td>\n",
              "    </tr>\n",
              "    <tr>\n",
              "      <th>8</th>\n",
              "      <td>BOSAK</td>\n",
              "      <td>1317380</td>\n",
              "      <td>6.78</td>\n",
              "    </tr>\n",
              "    <tr>\n",
              "      <th>9</th>\n",
              "      <td>HOŁOWNIA</td>\n",
              "      <td>2693397</td>\n",
              "      <td>13.87</td>\n",
              "    </tr>\n",
              "    <tr>\n",
              "      <th>10</th>\n",
              "      <td>TRZASKOWSKI</td>\n",
              "      <td>5917340</td>\n",
              "      <td>30.46</td>\n",
              "    </tr>\n",
              "    <tr>\n",
              "      <th>11</th>\n",
              "      <td>DUDA</td>\n",
              "      <td>8450513</td>\n",
              "      <td>43.50</td>\n",
              "    </tr>\n",
              "  </tbody>\n",
              "</table>\n",
              "</div>"
            ],
            "text/plain": [
              "           NAZWISKO  LICZBA_GLOSOW  PROCENT_WSZYSTKICH_GLOSOW\n",
              "1        PIOTROWSKI          21065                       0.11\n",
              "2           TANAJNO          27909                       0.14\n",
              "3         WITKOWSKI          27290                       0.14\n",
              "4          JAKUBIAK          33652                       0.17\n",
              "5            ŻÓŁTEK          45419                       0.23\n",
              "6           BIEDROŃ         432129                       2.22\n",
              "7   KOSINIAK-KAMYSZ         459365                       2.36\n",
              "8             BOSAK        1317380                       6.78\n",
              "9          HOŁOWNIA        2693397                      13.87\n",
              "10      TRZASKOWSKI        5917340                      30.46\n",
              "11             DUDA        8450513                      43.50"
            ]
          },
          "metadata": {},
          "execution_count": 24
        }
      ]
    },
    {
      "cell_type": "markdown",
      "metadata": {
        "id": "LlSPJJpGPg5j"
      },
      "source": [
        ""
      ]
    },
    {
      "cell_type": "code",
      "metadata": {
        "id": "aayOWSdaq8Ph"
      },
      "source": [
        "#warunek kto wchodyi do 2 turz"
      ],
      "execution_count": null,
      "outputs": []
    },
    {
      "cell_type": "code",
      "metadata": {
        "id": "ecJWMGqRXrdE"
      },
      "source": [
        "#new data\n",
        "\n",
        "first = df['LICZBA_GLOSOW'][11]\n",
        "second = df['LICZBA_GLOSOW'][10]\n",
        "others = df['LICZBA_GLOSOW'][:9].sum()\n",
        "\n",
        "all_votes = df['LICZBA_GLOSOW'].sum()\n",
        "first_name = df[\"NAZWISKO\"][11]\n",
        "second_name = df[\"NAZWISKO\"][10]"
      ],
      "execution_count": null,
      "outputs": []
    },
    {
      "cell_type": "code",
      "metadata": {
        "id": "R4MlMJD0aDzc",
        "colab": {
          "base_uri": "https://localhost:8080/",
          "height": 144
        },
        "outputId": "695d76ee-0aff-4217-de6e-3f89c224b53a"
      },
      "source": [
        "df_new = pd.DataFrame (\n",
        "    { \n",
        "        \"LABELS\": [\n",
        "                   first_name, second_name, \"OTHERS\"\n",
        "                   ],\n",
        "     \n",
        "          \"VOTES\": [\n",
        "                    first, second, others]\n",
        "          ,})\n",
        "\n",
        "\n",
        "\n",
        "df_new.index = df_new.index+1\n",
        "df_new"
      ],
      "execution_count": null,
      "outputs": [
        {
          "output_type": "execute_result",
          "data": {
            "text/html": [
              "<div>\n",
              "<style scoped>\n",
              "    .dataframe tbody tr th:only-of-type {\n",
              "        vertical-align: middle;\n",
              "    }\n",
              "\n",
              "    .dataframe tbody tr th {\n",
              "        vertical-align: top;\n",
              "    }\n",
              "\n",
              "    .dataframe thead th {\n",
              "        text-align: right;\n",
              "    }\n",
              "</style>\n",
              "<table border=\"1\" class=\"dataframe\">\n",
              "  <thead>\n",
              "    <tr style=\"text-align: right;\">\n",
              "      <th></th>\n",
              "      <th>LABELS</th>\n",
              "      <th>VOTES</th>\n",
              "    </tr>\n",
              "  </thead>\n",
              "  <tbody>\n",
              "    <tr>\n",
              "      <th>1</th>\n",
              "      <td>DUDA</td>\n",
              "      <td>8450513</td>\n",
              "    </tr>\n",
              "    <tr>\n",
              "      <th>2</th>\n",
              "      <td>TRZASKOWSKI</td>\n",
              "      <td>5917340</td>\n",
              "    </tr>\n",
              "    <tr>\n",
              "      <th>3</th>\n",
              "      <td>OTHERS</td>\n",
              "      <td>5057606</td>\n",
              "    </tr>\n",
              "  </tbody>\n",
              "</table>\n",
              "</div>"
            ],
            "text/plain": [
              "        LABELS    VOTES\n",
              "1         DUDA  8450513\n",
              "2  TRZASKOWSKI  5917340\n",
              "3       OTHERS  5057606"
            ]
          },
          "metadata": {},
          "execution_count": 27
        }
      ]
    },
    {
      "cell_type": "code",
      "metadata": {
        "colab": {
          "base_uri": "https://localhost:8080/",
          "height": 144
        },
        "id": "UttBpxXP7TAG",
        "outputId": "22947406-c527-4a1a-9867-0585839aaeae"
      },
      "source": [
        "df_new['PERCENT'] = round(df_new[\"VOTES\"]/all_votes * 100, 2)\n",
        "df_new\n"
      ],
      "execution_count": null,
      "outputs": [
        {
          "output_type": "execute_result",
          "data": {
            "text/html": [
              "<div>\n",
              "<style scoped>\n",
              "    .dataframe tbody tr th:only-of-type {\n",
              "        vertical-align: middle;\n",
              "    }\n",
              "\n",
              "    .dataframe tbody tr th {\n",
              "        vertical-align: top;\n",
              "    }\n",
              "\n",
              "    .dataframe thead th {\n",
              "        text-align: right;\n",
              "    }\n",
              "</style>\n",
              "<table border=\"1\" class=\"dataframe\">\n",
              "  <thead>\n",
              "    <tr style=\"text-align: right;\">\n",
              "      <th></th>\n",
              "      <th>LABELS</th>\n",
              "      <th>VOTES</th>\n",
              "      <th>PERCENT</th>\n",
              "    </tr>\n",
              "  </thead>\n",
              "  <tbody>\n",
              "    <tr>\n",
              "      <th>1</th>\n",
              "      <td>DUDA</td>\n",
              "      <td>8450513</td>\n",
              "      <td>43.50</td>\n",
              "    </tr>\n",
              "    <tr>\n",
              "      <th>2</th>\n",
              "      <td>TRZASKOWSKI</td>\n",
              "      <td>5917340</td>\n",
              "      <td>30.46</td>\n",
              "    </tr>\n",
              "    <tr>\n",
              "      <th>3</th>\n",
              "      <td>OTHERS</td>\n",
              "      <td>5057606</td>\n",
              "      <td>26.04</td>\n",
              "    </tr>\n",
              "  </tbody>\n",
              "</table>\n",
              "</div>"
            ],
            "text/plain": [
              "        LABELS    VOTES  PERCENT\n",
              "1         DUDA  8450513    43.50\n",
              "2  TRZASKOWSKI  5917340    30.46\n",
              "3       OTHERS  5057606    26.04"
            ]
          },
          "metadata": {},
          "execution_count": 28
        }
      ]
    },
    {
      "cell_type": "code",
      "metadata": {
        "colab": {
          "base_uri": "https://localhost:8080/",
          "height": 439
        },
        "id": "ww1sXO-c8zEs",
        "outputId": "09809ec5-369c-4bc6-d109-7601569d464d"
      },
      "source": [
        "x = list(df_new[\"LABELS\"])\n",
        "y = list(df_new[\"PERCENT\"])\n",
        "plt.figure(figsize=[5,7])\n",
        "explode = (0.1,0,0)\n",
        "plt.pie(y, labels = x, explode=explode, startangle=90, radius=1.8, shadow=True, autopct='%1.0f%%')\n",
        "#labels = ['{0} - {1:1.2f} %'.format(i,j) for i,j in zip(x, y)]\n",
        "\n",
        "#sort_legend = True\n",
        "#if sort_legend:\n",
        "#    patches, labels, dummy =  zip(*sorted(zip(patches, labels, y),\n",
        "#                                          key=lambda x: x[2],\n",
        "#                                          reverse=True))\n",
        "\n",
        "#plt.legend(patches, labels, loc='upper right', bbox_to_anchor=(1.8, .3),\n",
        "#           fontsize=8)\n",
        "\n",
        "#plt.savefig('piechart.png', bbox_inches='tight')\n",
        "\n",
        "plt.show()"
      ],
      "execution_count": null,
      "outputs": [
        {
          "output_type": "display_data",
          "data": {
            "image/png": "[encoded data removed]",
            "text/plain": [
              "<Figure size 360x504 with 1 Axes>"
            ]
          },
          "metadata": {}
        }
      ]
    },
    {
      "cell_type": "code",
      "metadata": {
        "id": "4Sa4kNym80oM",
        "colab": {
          "base_uri": "https://localhost:8080/",
          "height": 517
        },
        "outputId": "d3b632a0-3dc8-44c2-c9df-173ae03bd384"
      },
      "source": [
        "plt.pie(y, labels = x, explode=explode, startangle=90, radius=1.8, shadow=True, autopct='%1.0f%%')"
      ],
      "execution_count": null,
      "outputs": [
        {
          "output_type": "execute_result",
          "data": {
            "text/plain": [
              "([<matplotlib.patches.Wedge at 0x7f2fd599c5d0>,\n",
              "  <matplotlib.patches.Wedge at 0x7f2fd59a6150>,\n",
              "  <matplotlib.patches.Wedge at 0x7f2fd59a6110>],\n",
              " [Text(-2.0367834492525962, 0.4217975590857515, 'DUDA'),\n",
              "  Text(1.0324248799081088, -1.6895262257055164, 'TRZASKOWSKI'),\n",
              "  Text(1.4450599804377706, 1.3535884355804726, 'OTHERS')],\n",
              " [Text(-1.155482918325992, 0.23928899986595514, '44%'),\n",
              "  Text(0.5631408435862412, -0.9215597594757362, '30%'),\n",
              "  Text(0.7882145347842385, 0.7383209648620759, '26%')])"
            ]
          },
          "metadata": {},
          "execution_count": 31
        },
        {
          "output_type": "display_data",
          "data": {
            "image/png": "[encoded data removed]",
            "text/plain": [
              "<Figure size 432x288 with 1 Axes>"
            ]
          },
          "metadata": {}
        }
      ]
    },
    {
      "cell_type": "code",
      "metadata": {
        "id": "Pb5SRla3hPL0"
      },
      "source": [
        ""
      ],
      "execution_count": null,
      "outputs": []
    },
    {
      "cell_type": "code",
      "metadata": {
        "id": "QijvLeEjhQYQ"
      },
      "source": [
        ""
      ],
      "execution_count": null,
      "outputs": []
    }
  ]
}